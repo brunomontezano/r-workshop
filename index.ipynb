{
  "cells": [
    {
      "cell_type": "raw",
      "metadata": {},
      "source": [
        "---\n",
        "title: \"Introdução ao R\"\n",
        "subtitle: \"Aplicações em ciências da saúde\"\n",
        "author: \"Bruno Montezano\"\n",
        "institute: \"UFRGS\"\n",
        "description: \"Curso voltado para desenvolvimento de habilidades de manipulação e análise de dados em R para pesquisadores da área da saúde\"\n",
        "date: last-modified\n",
        "image: assets/r_logo.png\n",
        "lang: pt-br\n",
        "about: \n",
        "  template: trestles\n",
        "  image-shape: rounded\n",
        "  image-width: 15em\n",
        "---"
      ],
      "id": "e62fe6ef"
    },
    {
      "cell_type": "markdown",
      "metadata": {},
      "source": [
        "```{css}\n",
        ".justify {\n",
        "  text-align: justify !important\n",
        "}\n",
        "```\n",
        "\n",
        "\n",
        "::: {.justify}\n",
        "Bem-vindos ao Curso de Introdução ao R do grupo de pesquisa AlliaNCE\n",
        "(*Artificial Intelligence in Neuroscience*). Neste curso, você irá\n",
        "aprender conceitos que permeiam a manipulação e análise de dados\n",
        "com uso da linguagem de programação de código aberto R.\n",
        ":::\n",
        "\n",
        "## Links importantes\n",
        "\n",
        "* [Email para dúvidas](mailto:brunodoyt@gmail.com)\n",
        "* [Instalação do R e RStudio](instalacao.html)\n",
        "* [Como habilitar compilação de pacotes](compilacao.html)"
      ],
      "id": "bcffec77"
    }
  ],
  "metadata": {
    "kernelspec": {
      "display_name": "Python 3",
      "language": "python",
      "name": "python3"
    }
  },
  "nbformat": 4,
  "nbformat_minor": 5
}